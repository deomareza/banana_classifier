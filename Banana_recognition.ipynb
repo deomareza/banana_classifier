{
 "cells": [
  {
   "cell_type": "markdown",
   "metadata": {},
   "source": [
    "# Banana Age Recognition"
   ]
  },
  {
   "cell_type": "markdown",
   "metadata": {},
   "source": [
    "## Initial Directory Setup"
   ]
  },
  {
   "cell_type": "markdown",
   "metadata": {},
   "source": [
    "Here we're defining the original directory where all the source images are stored. We also setup a make directory function and use that to set our train and validation directory."
   ]
  },
  {
   "cell_type": "code",
   "execution_count": 68,
   "metadata": {},
   "outputs": [],
   "source": [
    "import os\n",
    "import numpy as np\n",
    "\n",
    "def make_dir(directory):\n",
    "    if os.path.exists(directory)==False:\n",
    "        os.makedirs(directory)\n",
    "        return(directory)\n",
    "    else :\n",
    "        return(directory)\n",
    "\n",
    "\n",
    "img_dir = './images/dataset'\n",
    "\n",
    "train_dir = make_dir('./images/train')\n",
    "val_dir = make_dir('./images/val')\n"
   ]
  },
  {
   "cell_type": "markdown",
   "metadata": {},
   "source": [
    "For this script, we'll be splitting the train and test data with predefined proportion of 0.8. We're taking the first 80% of the images as train, and the last 20% as validation. "
   ]
  },
  {
   "cell_type": "code",
   "execution_count": 71,
   "metadata": {},
   "outputs": [],
   "source": [
    "import random\n",
    "import cv2\n",
    "import shutil\n",
    "\n",
    "train_proportion = 0.8\n",
    "path = img_dir\n",
    "\n",
    "for i in range(0,len(os.listdir(path))):\n",
    "    classes = os.listdir(path)[i]\n",
    "    file_path = path + \"\\\\\" + classes\n",
    "    images = os.listdir(file_path)\n",
    "    \n",
    "    train_prop = round(len(images)*train_proportion)\n",
    "    \n",
    "    for i in range(0,len(images)):\n",
    "        if i <= train_prop :\n",
    "            src = file_path + '\\\\' + images[i]\n",
    "            dst = make_dir(train_dir + '/'+classes+'/')\n",
    "            shutil.copy(src,dst)\n",
    "\n",
    "        else :\n",
    "            src = file_path + '\\\\' + images[i]\n",
    "            dst = make_dir(val_dir + '/' + classes + '/')\n",
    "            shutil.copy(src,dst)"
   ]
  },
  {
   "cell_type": "markdown",
   "metadata": {},
   "source": [
    "Creating ImageDataGenerator objects"
   ]
  },
  {
   "cell_type": "code",
   "execution_count": 72,
   "metadata": {},
   "outputs": [
    {
     "name": "stdout",
     "output_type": "stream",
     "text": [
      "Found 265 images belonging to 4 classes.\n",
      "Found 62 images belonging to 4 classes.\n"
     ]
    }
   ],
   "source": [
    "from keras.preprocessing.image import ImageDataGenerator\n",
    "\n",
    "bs = 8\n",
    "img_size = 128\n",
    "num_classes = 4\n",
    "\n",
    "\n",
    "train_datagen = ImageDataGenerator(rotation_range = 50,\n",
    "                                   width_shift_range=.1,\n",
    "                                   height_shift_range=.1,\n",
    "                                   shear_range=.2,\n",
    "                                   zoom_range=.1,\n",
    "                                   horizontal_flip=True,\n",
    "                                  fill_mode = 'nearest')\n",
    "\n",
    "val_datagen = ImageDataGenerator()\n",
    "\n",
    "\n",
    "train_generator = train_datagen.flow_from_directory(train_dir,\n",
    "                                                   target_size = (img_size,img_size),\n",
    "                                                   batch_size = bs\n",
    "                                                    \n",
    "                                                    \n",
    "                                                   )\n",
    "\n",
    "validation_generator = val_datagen.flow_from_directory(val_dir,\n",
    "                                                      target_size = (img_size,img_size),\n",
    "                                                      batch_size = bs,\n",
    "                                                      shuffle = False)\n"
   ]
  },
  {
   "cell_type": "raw",
   "metadata": {},
   "source": [
    "i = 0\n",
    "for batch in train_generator.flow_from_directory(x, batch_size=1,\n",
    "                          save_to_dir='preview', save_prefix='cat', save_format='jpeg'):\n",
    "    i += 1\n",
    "    if i > 20:\n",
    "        break  # otherwise the generator would loop indefinitely"
   ]
  },
  {
   "cell_type": "code",
   "execution_count": 73,
   "metadata": {},
   "outputs": [],
   "source": [
    "from keras.models import Sequential\n",
    "from keras.layers import Dense, Dropout, Flatten, BatchNormalization, Activation\n",
    "from keras.layers import Conv2D, MaxPooling2D\n",
    "from keras.optimizers import Adam\n",
    "\n",
    "model = Sequential()\n",
    "\n",
    "model.add(Conv2D(64,(3,3),input_shape = (train_generator.image_shape), padding = 'same'))\n",
    "model.add(BatchNormalization())\n",
    "model.add(Activation('relu'))\n",
    "model.add(MaxPooling2D(2,2))\n",
    "model.add(Dropout(0.25))\n",
    "\n",
    "model.add(Conv2D(64,(3,3),input_shape = (train_generator.image_shape), padding = 'same'))\n",
    "model.add(BatchNormalization())\n",
    "model.add(Activation('relu'))\n",
    "model.add(MaxPooling2D(2,2))\n",
    "model.add(Dropout(0.25))\n",
    "\n",
    "model.add(Conv2D(128,(3,3), padding = 'same'))\n",
    "model.add(BatchNormalization())\n",
    "model.add(Activation('relu'))\n",
    "model.add(MaxPooling2D(2,2))\n",
    "model.add(Dropout(0.25))\n",
    "\n",
    "model.add(Conv2D(256,(3,3), padding = 'same'))\n",
    "model.add(BatchNormalization())\n",
    "model.add(Activation('relu'))\n",
    "model.add(MaxPooling2D(2,2))\n",
    "model.add(Dropout(0.25))\n",
    "\n",
    "model.add(Conv2D(512,(3,3), padding = 'same'))\n",
    "model.add(BatchNormalization())\n",
    "model.add(Activation('relu'))\n",
    "model.add(MaxPooling2D(2,2))\n",
    "model.add(Dropout(0.25))\n",
    "\n",
    "\n",
    "model.add(Flatten())\n",
    "\n",
    "model.add(Dense(128))\n",
    "model.add(BatchNormalization())\n",
    "model.add(Activation('relu'))\n",
    "model.add(Dropout(0.25))\n",
    "\n",
    "model.add(Dense(256))\n",
    "model.add(BatchNormalization())\n",
    "model.add(Activation('relu'))\n",
    "model.add(Dropout(0.25))\n",
    "\n",
    "model.add(Dense(512))\n",
    "model.add(BatchNormalization())\n",
    "model.add(Activation('relu'))\n",
    "model.add(Dropout(0.25))\n",
    "\n",
    "model.add(Dense(num_classes))\n",
    "model.add(Activation('softmax'))\n",
    "\n",
    "\n",
    "opt = Adam(lr=0.001)\n",
    "\n",
    "model.compile(optimizer=opt, metrics=['accuracy'], loss = 'categorical_crossentropy')"
   ]
  },
  {
   "cell_type": "code",
   "execution_count": 75,
   "metadata": {},
   "outputs": [],
   "source": [
    "from keras.callbacks import ModelCheckpoint, EarlyStopping, ReduceLROnPlateau\n",
    "\n",
    "checkpoint = ModelCheckpoint('./banana_weights_v1.h5', monitor = 'val_accuracy',verbose = 1, save_best_only=True)\n",
    "\n",
    "reducelr = ReduceLROnPlateau(patience = 5, monitor = 'val_accuracy', factor = 0.2, min_delta = 0.00001)\n",
    "\n",
    "callbacks = [checkpoint, reducelr]"
   ]
  },
  {
   "cell_type": "code",
   "execution_count": 76,
   "metadata": {},
   "outputs": [
    {
     "name": "stdout",
     "output_type": "stream",
     "text": [
      "Epoch 1/50\n",
      "33/33 [==============================] - 20s 593ms/step - loss: 0.6526 - accuracy: 0.7704 - val_loss: 0.1516 - val_accuracy: 0.8214\n",
      "\n",
      "Epoch 00001: val_accuracy improved from -inf to 0.82143, saving model to ./banana_weights_v1.h5\n",
      "Epoch 2/50\n",
      "33/33 [==============================] - 19s 575ms/step - loss: 0.6726 - accuracy: 0.8093 - val_loss: 0.2873 - val_accuracy: 0.7593\n",
      "\n",
      "Epoch 00002: val_accuracy did not improve from 0.82143\n",
      "Epoch 3/50\n",
      "33/33 [==============================] - 22s 671ms/step - loss: 0.5021 - accuracy: 0.8210 - val_loss: 1.5567 - val_accuracy: 0.6111\n",
      "\n",
      "Epoch 00003: val_accuracy did not improve from 0.82143\n",
      "Epoch 4/50\n",
      "33/33 [==============================] - 21s 641ms/step - loss: 0.4427 - accuracy: 0.8638 - val_loss: 0.1097 - val_accuracy: 0.5000\n",
      "\n",
      "Epoch 00004: val_accuracy did not improve from 0.82143\n",
      "Epoch 5/50\n",
      "33/33 [==============================] - 19s 574ms/step - loss: 0.5370 - accuracy: 0.8093 - val_loss: 2.4981 - val_accuracy: 0.7778\n",
      "\n",
      "Epoch 00005: val_accuracy did not improve from 0.82143\n",
      "Epoch 6/50\n",
      "33/33 [==============================] - 21s 648ms/step - loss: 0.5840 - accuracy: 0.7917 - val_loss: 1.5073 - val_accuracy: 0.3704\n",
      "\n",
      "Epoch 00006: val_accuracy did not improve from 0.82143\n",
      "Epoch 7/50\n",
      "33/33 [==============================] - 20s 606ms/step - loss: 0.5557 - accuracy: 0.8120 - val_loss: 8.7539e-04 - val_accuracy: 0.4815\n",
      "\n",
      "Epoch 00007: val_accuracy did not improve from 0.82143\n",
      "Epoch 8/50\n",
      "33/33 [==============================] - 20s 595ms/step - loss: 0.4425 - accuracy: 0.8521 - val_loss: 0.4939 - val_accuracy: 0.8519\n",
      "\n",
      "Epoch 00008: val_accuracy improved from 0.82143 to 0.85185, saving model to ./banana_weights_v1.h5\n",
      "Epoch 9/50\n",
      "33/33 [==============================] - 20s 611ms/step - loss: 0.3941 - accuracy: 0.8521 - val_loss: 1.6095 - val_accuracy: 0.6250\n",
      "\n",
      "Epoch 00009: val_accuracy did not improve from 0.85185\n",
      "Epoch 10/50\n",
      "33/33 [==============================] - 22s 675ms/step - loss: 0.4589 - accuracy: 0.8295 - val_loss: 0.6417 - val_accuracy: 0.5926\n",
      "\n",
      "Epoch 00010: val_accuracy did not improve from 0.85185\n",
      "Epoch 11/50\n",
      "33/33 [==============================] - 21s 623ms/step - loss: 0.5514 - accuracy: 0.8520 - val_loss: 1.0607 - val_accuracy: 0.2778\n",
      "\n",
      "Epoch 00011: val_accuracy did not improve from 0.85185\n",
      "Epoch 12/50\n",
      "33/33 [==============================] - 20s 606ms/step - loss: 0.4389 - accuracy: 0.8485 - val_loss: 0.0696 - val_accuracy: 0.2037\n",
      "\n",
      "Epoch 00012: val_accuracy did not improve from 0.85185\n",
      "Epoch 13/50\n",
      "33/33 [==============================] - 20s 599ms/step - loss: 0.3936 - accuracy: 0.8560 - val_loss: 4.0899 - val_accuracy: 0.0926\n",
      "\n",
      "Epoch 00013: val_accuracy did not improve from 0.85185\n",
      "Epoch 14/50\n",
      "33/33 [==============================] - 21s 644ms/step - loss: 0.4167 - accuracy: 0.8599 - val_loss: 2.2329 - val_accuracy: 0.2037\n",
      "\n",
      "Epoch 00014: val_accuracy did not improve from 0.85185\n",
      "Epoch 15/50\n",
      "33/33 [==============================] - 21s 633ms/step - loss: 0.4069 - accuracy: 0.8444 - val_loss: 1.4761 - val_accuracy: 0.2222\n",
      "\n",
      "Epoch 00015: val_accuracy did not improve from 0.85185\n",
      "Epoch 16/50\n",
      "33/33 [==============================] - 20s 611ms/step - loss: 0.4499 - accuracy: 0.8523 - val_loss: 4.8461 - val_accuracy: 0.1667\n",
      "\n",
      "Epoch 00016: val_accuracy did not improve from 0.85185\n",
      "Epoch 17/50\n",
      "33/33 [==============================] - 23s 688ms/step - loss: 0.4200 - accuracy: 0.8720 - val_loss: 3.0053 - val_accuracy: 0.1607\n",
      "\n",
      "Epoch 00017: val_accuracy did not improve from 0.85185\n",
      "Epoch 18/50\n",
      "33/33 [==============================] - 21s 645ms/step - loss: 0.4556 - accuracy: 0.8523 - val_loss: 1.2189 - val_accuracy: 0.1667\n",
      "\n",
      "Epoch 00018: val_accuracy did not improve from 0.85185\n",
      "Epoch 19/50\n",
      "33/33 [==============================] - 20s 611ms/step - loss: 0.4583 - accuracy: 0.8093 - val_loss: 1.5537 - val_accuracy: 0.1667\n",
      "\n",
      "Epoch 00019: val_accuracy did not improve from 0.85185\n",
      "Epoch 20/50\n",
      "33/33 [==============================] - 21s 632ms/step - loss: 0.4714 - accuracy: 0.8440 - val_loss: 0.1143 - val_accuracy: 0.1667\n",
      "\n",
      "Epoch 00020: val_accuracy did not improve from 0.85185\n",
      "Epoch 21/50\n",
      "33/33 [==============================] - 20s 611ms/step - loss: 0.5350 - accuracy: 0.8405 - val_loss: 4.4381 - val_accuracy: 0.0185\n",
      "\n",
      "Epoch 00021: val_accuracy did not improve from 0.85185\n",
      "Epoch 22/50\n",
      "33/33 [==============================] - 21s 637ms/step - loss: 0.3341 - accuracy: 0.8788 - val_loss: 2.9415 - val_accuracy: 0.1481\n",
      "\n",
      "Epoch 00022: val_accuracy did not improve from 0.85185\n",
      "Epoch 23/50\n",
      "33/33 [==============================] - 21s 630ms/step - loss: 0.5111 - accuracy: 0.8720 - val_loss: 2.1568 - val_accuracy: 0.1667\n",
      "\n",
      "Epoch 00023: val_accuracy did not improve from 0.85185\n",
      "Epoch 24/50\n",
      "33/33 [==============================] - 21s 632ms/step - loss: 0.3926 - accuracy: 0.8712 - val_loss: 4.9482 - val_accuracy: 0.1667\n",
      "\n",
      "Epoch 00024: val_accuracy did not improve from 0.85185\n",
      "Epoch 25/50\n",
      "33/33 [==============================] - 21s 626ms/step - loss: 0.3768 - accuracy: 0.9000 - val_loss: 2.9973 - val_accuracy: 0.1607\n",
      "\n",
      "Epoch 00025: val_accuracy did not improve from 0.85185\n",
      "Epoch 26/50\n",
      "33/33 [==============================] - 21s 648ms/step - loss: 0.3885 - accuracy: 0.8523 - val_loss: 1.0895 - val_accuracy: 0.1667\n",
      "\n",
      "Epoch 00026: val_accuracy did not improve from 0.85185\n",
      "Epoch 27/50\n",
      "33/33 [==============================] - 19s 582ms/step - loss: 0.4413 - accuracy: 0.8677 - val_loss: 1.4212 - val_accuracy: 0.1667\n",
      "\n",
      "Epoch 00027: val_accuracy did not improve from 0.85185\n",
      "Epoch 28/50\n",
      "33/33 [==============================] - 21s 636ms/step - loss: 0.4655 - accuracy: 0.8405 - val_loss: 0.1225 - val_accuracy: 0.1667\n",
      "\n",
      "Epoch 00028: val_accuracy did not improve from 0.85185\n",
      "Epoch 29/50\n",
      "33/33 [==============================] - 20s 621ms/step - loss: 0.4066 - accuracy: 0.8755 - val_loss: 4.2873 - val_accuracy: 0.0185\n",
      "\n",
      "Epoch 00029: val_accuracy did not improve from 0.85185\n",
      "Epoch 30/50\n",
      "33/33 [==============================] - 20s 601ms/step - loss: 0.3791 - accuracy: 0.8560 - val_loss: 2.8241 - val_accuracy: 0.1481\n",
      "\n",
      "Epoch 00030: val_accuracy did not improve from 0.85185\n",
      "Epoch 31/50\n",
      " 8/33 [======>.......................] - ETA: 16s - loss: 0.3816 - accuracy: 0.8750"
     ]
    },
    {
     "ename": "KeyboardInterrupt",
     "evalue": "",
     "output_type": "error",
     "traceback": [
      "\u001b[1;31m---------------------------------------------------------------------------\u001b[0m",
      "\u001b[1;31mKeyboardInterrupt\u001b[0m                         Traceback (most recent call last)",
      "\u001b[1;32m<ipython-input-76-8a329f3884d0>\u001b[0m in \u001b[0;36m<module>\u001b[1;34m\u001b[0m\n\u001b[0;32m      1\u001b[0m \u001b[0mepochs\u001b[0m \u001b[1;33m=\u001b[0m \u001b[1;36m50\u001b[0m\u001b[1;33m\u001b[0m\u001b[1;33m\u001b[0m\u001b[0m\n\u001b[0;32m      2\u001b[0m \u001b[1;33m\u001b[0m\u001b[0m\n\u001b[1;32m----> 3\u001b[1;33m history = model.fit_generator(train_generator,\n\u001b[0m\u001b[0;32m      4\u001b[0m                              \u001b[0msteps_per_epoch\u001b[0m\u001b[1;33m=\u001b[0m\u001b[0mtrain_generator\u001b[0m\u001b[1;33m.\u001b[0m\u001b[0mn\u001b[0m\u001b[1;33m//\u001b[0m\u001b[0mtrain_generator\u001b[0m\u001b[1;33m.\u001b[0m\u001b[0mbatch_size\u001b[0m\u001b[1;33m,\u001b[0m\u001b[1;33m\u001b[0m\u001b[1;33m\u001b[0m\u001b[0m\n\u001b[0;32m      5\u001b[0m                               \u001b[0mcallbacks\u001b[0m\u001b[1;33m=\u001b[0m\u001b[0mcallbacks\u001b[0m\u001b[1;33m,\u001b[0m\u001b[1;33m\u001b[0m\u001b[1;33m\u001b[0m\u001b[0m\n",
      "\u001b[1;32m~\\Anaconda3\\envs\\algoritma\\lib\\site-packages\\keras\\legacy\\interfaces.py\u001b[0m in \u001b[0;36mwrapper\u001b[1;34m(*args, **kwargs)\u001b[0m\n\u001b[0;32m     89\u001b[0m                 warnings.warn('Update your `' + object_name + '` call to the ' +\n\u001b[0;32m     90\u001b[0m                               'Keras 2 API: ' + signature, stacklevel=2)\n\u001b[1;32m---> 91\u001b[1;33m             \u001b[1;32mreturn\u001b[0m \u001b[0mfunc\u001b[0m\u001b[1;33m(\u001b[0m\u001b[1;33m*\u001b[0m\u001b[0margs\u001b[0m\u001b[1;33m,\u001b[0m \u001b[1;33m**\u001b[0m\u001b[0mkwargs\u001b[0m\u001b[1;33m)\u001b[0m\u001b[1;33m\u001b[0m\u001b[1;33m\u001b[0m\u001b[0m\n\u001b[0m\u001b[0;32m     92\u001b[0m         \u001b[0mwrapper\u001b[0m\u001b[1;33m.\u001b[0m\u001b[0m_original_function\u001b[0m \u001b[1;33m=\u001b[0m \u001b[0mfunc\u001b[0m\u001b[1;33m\u001b[0m\u001b[1;33m\u001b[0m\u001b[0m\n\u001b[0;32m     93\u001b[0m         \u001b[1;32mreturn\u001b[0m \u001b[0mwrapper\u001b[0m\u001b[1;33m\u001b[0m\u001b[1;33m\u001b[0m\u001b[0m\n",
      "\u001b[1;32m~\\Anaconda3\\envs\\algoritma\\lib\\site-packages\\keras\\engine\\training.py\u001b[0m in \u001b[0;36mfit_generator\u001b[1;34m(self, generator, steps_per_epoch, epochs, verbose, callbacks, validation_data, validation_steps, validation_freq, class_weight, max_queue_size, workers, use_multiprocessing, shuffle, initial_epoch)\u001b[0m\n\u001b[0;32m   1716\u001b[0m         \u001b[0;31m`\u001b[0m\u001b[0;31m`\u001b[0m\u001b[0;31m`\u001b[0m\u001b[1;33m\u001b[0m\u001b[1;33m\u001b[0m\u001b[0m\n\u001b[0;32m   1717\u001b[0m         \"\"\"\n\u001b[1;32m-> 1718\u001b[1;33m         return training_generator.fit_generator(\n\u001b[0m\u001b[0;32m   1719\u001b[0m             \u001b[0mself\u001b[0m\u001b[1;33m,\u001b[0m \u001b[0mgenerator\u001b[0m\u001b[1;33m,\u001b[0m\u001b[1;33m\u001b[0m\u001b[1;33m\u001b[0m\u001b[0m\n\u001b[0;32m   1720\u001b[0m             \u001b[0msteps_per_epoch\u001b[0m\u001b[1;33m=\u001b[0m\u001b[0msteps_per_epoch\u001b[0m\u001b[1;33m,\u001b[0m\u001b[1;33m\u001b[0m\u001b[1;33m\u001b[0m\u001b[0m\n",
      "\u001b[1;32m~\\Anaconda3\\envs\\algoritma\\lib\\site-packages\\keras\\engine\\training_generator.py\u001b[0m in \u001b[0;36mfit_generator\u001b[1;34m(model, generator, steps_per_epoch, epochs, verbose, callbacks, validation_data, validation_steps, validation_freq, class_weight, max_queue_size, workers, use_multiprocessing, shuffle, initial_epoch)\u001b[0m\n\u001b[0;32m    215\u001b[0m                 \u001b[0mcallbacks\u001b[0m\u001b[1;33m.\u001b[0m\u001b[0mon_batch_begin\u001b[0m\u001b[1;33m(\u001b[0m\u001b[0mbatch_index\u001b[0m\u001b[1;33m,\u001b[0m \u001b[0mbatch_logs\u001b[0m\u001b[1;33m)\u001b[0m\u001b[1;33m\u001b[0m\u001b[1;33m\u001b[0m\u001b[0m\n\u001b[0;32m    216\u001b[0m \u001b[1;33m\u001b[0m\u001b[0m\n\u001b[1;32m--> 217\u001b[1;33m                 outs = model.train_on_batch(x, y,\n\u001b[0m\u001b[0;32m    218\u001b[0m                                             \u001b[0msample_weight\u001b[0m\u001b[1;33m=\u001b[0m\u001b[0msample_weight\u001b[0m\u001b[1;33m,\u001b[0m\u001b[1;33m\u001b[0m\u001b[1;33m\u001b[0m\u001b[0m\n\u001b[0;32m    219\u001b[0m                                             \u001b[0mclass_weight\u001b[0m\u001b[1;33m=\u001b[0m\u001b[0mclass_weight\u001b[0m\u001b[1;33m,\u001b[0m\u001b[1;33m\u001b[0m\u001b[1;33m\u001b[0m\u001b[0m\n",
      "\u001b[1;32m~\\Anaconda3\\envs\\algoritma\\lib\\site-packages\\keras\\engine\\training.py\u001b[0m in \u001b[0;36mtrain_on_batch\u001b[1;34m(self, x, y, sample_weight, class_weight, reset_metrics)\u001b[0m\n\u001b[0;32m   1512\u001b[0m             \u001b[0mins\u001b[0m \u001b[1;33m=\u001b[0m \u001b[0mx\u001b[0m \u001b[1;33m+\u001b[0m \u001b[0my\u001b[0m \u001b[1;33m+\u001b[0m \u001b[0msample_weights\u001b[0m\u001b[1;33m\u001b[0m\u001b[1;33m\u001b[0m\u001b[0m\n\u001b[0;32m   1513\u001b[0m         \u001b[0mself\u001b[0m\u001b[1;33m.\u001b[0m\u001b[0m_make_train_function\u001b[0m\u001b[1;33m(\u001b[0m\u001b[1;33m)\u001b[0m\u001b[1;33m\u001b[0m\u001b[1;33m\u001b[0m\u001b[0m\n\u001b[1;32m-> 1514\u001b[1;33m         \u001b[0moutputs\u001b[0m \u001b[1;33m=\u001b[0m \u001b[0mself\u001b[0m\u001b[1;33m.\u001b[0m\u001b[0mtrain_function\u001b[0m\u001b[1;33m(\u001b[0m\u001b[0mins\u001b[0m\u001b[1;33m)\u001b[0m\u001b[1;33m\u001b[0m\u001b[1;33m\u001b[0m\u001b[0m\n\u001b[0m\u001b[0;32m   1515\u001b[0m \u001b[1;33m\u001b[0m\u001b[0m\n\u001b[0;32m   1516\u001b[0m         \u001b[1;32mif\u001b[0m \u001b[0mreset_metrics\u001b[0m\u001b[1;33m:\u001b[0m\u001b[1;33m\u001b[0m\u001b[1;33m\u001b[0m\u001b[0m\n",
      "\u001b[1;32m~\\Anaconda3\\envs\\algoritma\\lib\\site-packages\\tensorflow\\python\\keras\\backend.py\u001b[0m in \u001b[0;36m__call__\u001b[1;34m(self, inputs)\u001b[0m\n\u001b[0;32m   3790\u001b[0m         \u001b[0mvalue\u001b[0m \u001b[1;33m=\u001b[0m \u001b[0mmath_ops\u001b[0m\u001b[1;33m.\u001b[0m\u001b[0mcast\u001b[0m\u001b[1;33m(\u001b[0m\u001b[0mvalue\u001b[0m\u001b[1;33m,\u001b[0m \u001b[0mtensor\u001b[0m\u001b[1;33m.\u001b[0m\u001b[0mdtype\u001b[0m\u001b[1;33m)\u001b[0m\u001b[1;33m\u001b[0m\u001b[1;33m\u001b[0m\u001b[0m\n\u001b[0;32m   3791\u001b[0m       \u001b[0mconverted_inputs\u001b[0m\u001b[1;33m.\u001b[0m\u001b[0mappend\u001b[0m\u001b[1;33m(\u001b[0m\u001b[0mvalue\u001b[0m\u001b[1;33m)\u001b[0m\u001b[1;33m\u001b[0m\u001b[1;33m\u001b[0m\u001b[0m\n\u001b[1;32m-> 3792\u001b[1;33m     \u001b[0moutputs\u001b[0m \u001b[1;33m=\u001b[0m \u001b[0mself\u001b[0m\u001b[1;33m.\u001b[0m\u001b[0m_graph_fn\u001b[0m\u001b[1;33m(\u001b[0m\u001b[1;33m*\u001b[0m\u001b[0mconverted_inputs\u001b[0m\u001b[1;33m)\u001b[0m\u001b[1;33m\u001b[0m\u001b[1;33m\u001b[0m\u001b[0m\n\u001b[0m\u001b[0;32m   3793\u001b[0m \u001b[1;33m\u001b[0m\u001b[0m\n\u001b[0;32m   3794\u001b[0m     \u001b[1;31m# EagerTensor.numpy() will often make a copy to ensure memory safety.\u001b[0m\u001b[1;33m\u001b[0m\u001b[1;33m\u001b[0m\u001b[1;33m\u001b[0m\u001b[0m\n",
      "\u001b[1;32m~\\Anaconda3\\envs\\algoritma\\lib\\site-packages\\tensorflow\\python\\eager\\function.py\u001b[0m in \u001b[0;36m__call__\u001b[1;34m(self, *args, **kwargs)\u001b[0m\n\u001b[0;32m   1603\u001b[0m       \u001b[0mTypeError\u001b[0m\u001b[1;33m:\u001b[0m \u001b[0mFor\u001b[0m \u001b[0minvalid\u001b[0m \u001b[0mpositional\u001b[0m\u001b[1;33m/\u001b[0m\u001b[0mkeyword\u001b[0m \u001b[0margument\u001b[0m \u001b[0mcombinations\u001b[0m\u001b[1;33m.\u001b[0m\u001b[1;33m\u001b[0m\u001b[1;33m\u001b[0m\u001b[0m\n\u001b[0;32m   1604\u001b[0m     \"\"\"\n\u001b[1;32m-> 1605\u001b[1;33m     \u001b[1;32mreturn\u001b[0m \u001b[0mself\u001b[0m\u001b[1;33m.\u001b[0m\u001b[0m_call_impl\u001b[0m\u001b[1;33m(\u001b[0m\u001b[0margs\u001b[0m\u001b[1;33m,\u001b[0m \u001b[0mkwargs\u001b[0m\u001b[1;33m)\u001b[0m\u001b[1;33m\u001b[0m\u001b[1;33m\u001b[0m\u001b[0m\n\u001b[0m\u001b[0;32m   1606\u001b[0m \u001b[1;33m\u001b[0m\u001b[0m\n\u001b[0;32m   1607\u001b[0m   \u001b[1;32mdef\u001b[0m \u001b[0m_call_impl\u001b[0m\u001b[1;33m(\u001b[0m\u001b[0mself\u001b[0m\u001b[1;33m,\u001b[0m \u001b[0margs\u001b[0m\u001b[1;33m,\u001b[0m \u001b[0mkwargs\u001b[0m\u001b[1;33m,\u001b[0m \u001b[0mcancellation_manager\u001b[0m\u001b[1;33m=\u001b[0m\u001b[1;32mNone\u001b[0m\u001b[1;33m)\u001b[0m\u001b[1;33m:\u001b[0m\u001b[1;33m\u001b[0m\u001b[1;33m\u001b[0m\u001b[0m\n",
      "\u001b[1;32m~\\Anaconda3\\envs\\algoritma\\lib\\site-packages\\tensorflow\\python\\eager\\function.py\u001b[0m in \u001b[0;36m_call_impl\u001b[1;34m(self, args, kwargs, cancellation_manager)\u001b[0m\n\u001b[0;32m   1643\u001b[0m       raise TypeError(\"Keyword arguments {} unknown. Expected {}.\".format(\n\u001b[0;32m   1644\u001b[0m           list(kwargs.keys()), list(self._arg_keywords)))\n\u001b[1;32m-> 1645\u001b[1;33m     \u001b[1;32mreturn\u001b[0m \u001b[0mself\u001b[0m\u001b[1;33m.\u001b[0m\u001b[0m_call_flat\u001b[0m\u001b[1;33m(\u001b[0m\u001b[0margs\u001b[0m\u001b[1;33m,\u001b[0m \u001b[0mself\u001b[0m\u001b[1;33m.\u001b[0m\u001b[0mcaptured_inputs\u001b[0m\u001b[1;33m,\u001b[0m \u001b[0mcancellation_manager\u001b[0m\u001b[1;33m)\u001b[0m\u001b[1;33m\u001b[0m\u001b[1;33m\u001b[0m\u001b[0m\n\u001b[0m\u001b[0;32m   1646\u001b[0m \u001b[1;33m\u001b[0m\u001b[0m\n\u001b[0;32m   1647\u001b[0m   \u001b[1;32mdef\u001b[0m \u001b[0m_filtered_call\u001b[0m\u001b[1;33m(\u001b[0m\u001b[0mself\u001b[0m\u001b[1;33m,\u001b[0m \u001b[0margs\u001b[0m\u001b[1;33m,\u001b[0m \u001b[0mkwargs\u001b[0m\u001b[1;33m)\u001b[0m\u001b[1;33m:\u001b[0m\u001b[1;33m\u001b[0m\u001b[1;33m\u001b[0m\u001b[0m\n",
      "\u001b[1;32m~\\Anaconda3\\envs\\algoritma\\lib\\site-packages\\tensorflow\\python\\eager\\function.py\u001b[0m in \u001b[0;36m_call_flat\u001b[1;34m(self, args, captured_inputs, cancellation_manager)\u001b[0m\n\u001b[0;32m   1743\u001b[0m         and executing_eagerly):\n\u001b[0;32m   1744\u001b[0m       \u001b[1;31m# No tape is watching; skip to running the function.\u001b[0m\u001b[1;33m\u001b[0m\u001b[1;33m\u001b[0m\u001b[1;33m\u001b[0m\u001b[0m\n\u001b[1;32m-> 1745\u001b[1;33m       return self._build_call_outputs(self._inference_function.call(\n\u001b[0m\u001b[0;32m   1746\u001b[0m           ctx, args, cancellation_manager=cancellation_manager))\n\u001b[0;32m   1747\u001b[0m     forward_backward = self._select_forward_and_backward_functions(\n",
      "\u001b[1;32m~\\Anaconda3\\envs\\algoritma\\lib\\site-packages\\tensorflow\\python\\eager\\function.py\u001b[0m in \u001b[0;36mcall\u001b[1;34m(self, ctx, args, cancellation_manager)\u001b[0m\n\u001b[0;32m    591\u001b[0m       \u001b[1;32mwith\u001b[0m \u001b[0m_InterpolateFunctionError\u001b[0m\u001b[1;33m(\u001b[0m\u001b[0mself\u001b[0m\u001b[1;33m)\u001b[0m\u001b[1;33m:\u001b[0m\u001b[1;33m\u001b[0m\u001b[1;33m\u001b[0m\u001b[0m\n\u001b[0;32m    592\u001b[0m         \u001b[1;32mif\u001b[0m \u001b[0mcancellation_manager\u001b[0m \u001b[1;32mis\u001b[0m \u001b[1;32mNone\u001b[0m\u001b[1;33m:\u001b[0m\u001b[1;33m\u001b[0m\u001b[1;33m\u001b[0m\u001b[0m\n\u001b[1;32m--> 593\u001b[1;33m           outputs = execute.execute(\n\u001b[0m\u001b[0;32m    594\u001b[0m               \u001b[0mstr\u001b[0m\u001b[1;33m(\u001b[0m\u001b[0mself\u001b[0m\u001b[1;33m.\u001b[0m\u001b[0msignature\u001b[0m\u001b[1;33m.\u001b[0m\u001b[0mname\u001b[0m\u001b[1;33m)\u001b[0m\u001b[1;33m,\u001b[0m\u001b[1;33m\u001b[0m\u001b[1;33m\u001b[0m\u001b[0m\n\u001b[0;32m    595\u001b[0m               \u001b[0mnum_outputs\u001b[0m\u001b[1;33m=\u001b[0m\u001b[0mself\u001b[0m\u001b[1;33m.\u001b[0m\u001b[0m_num_outputs\u001b[0m\u001b[1;33m,\u001b[0m\u001b[1;33m\u001b[0m\u001b[1;33m\u001b[0m\u001b[0m\n",
      "\u001b[1;32m~\\Anaconda3\\envs\\algoritma\\lib\\site-packages\\tensorflow\\python\\eager\\execute.py\u001b[0m in \u001b[0;36mquick_execute\u001b[1;34m(op_name, num_outputs, inputs, attrs, ctx, name)\u001b[0m\n\u001b[0;32m     57\u001b[0m   \u001b[1;32mtry\u001b[0m\u001b[1;33m:\u001b[0m\u001b[1;33m\u001b[0m\u001b[1;33m\u001b[0m\u001b[0m\n\u001b[0;32m     58\u001b[0m     \u001b[0mctx\u001b[0m\u001b[1;33m.\u001b[0m\u001b[0mensure_initialized\u001b[0m\u001b[1;33m(\u001b[0m\u001b[1;33m)\u001b[0m\u001b[1;33m\u001b[0m\u001b[1;33m\u001b[0m\u001b[0m\n\u001b[1;32m---> 59\u001b[1;33m     tensors = pywrap_tfe.TFE_Py_Execute(ctx._handle, device_name, op_name,\n\u001b[0m\u001b[0;32m     60\u001b[0m                                         inputs, attrs, num_outputs)\n\u001b[0;32m     61\u001b[0m   \u001b[1;32mexcept\u001b[0m \u001b[0mcore\u001b[0m\u001b[1;33m.\u001b[0m\u001b[0m_NotOkStatusException\u001b[0m \u001b[1;32mas\u001b[0m \u001b[0me\u001b[0m\u001b[1;33m:\u001b[0m\u001b[1;33m\u001b[0m\u001b[1;33m\u001b[0m\u001b[0m\n",
      "\u001b[1;31mKeyboardInterrupt\u001b[0m: "
     ]
    }
   ],
   "source": [
    "\n",
    "epochs = 50\n",
    "\n",
    "history = model.fit_generator(train_generator,\n",
    "                             steps_per_epoch=train_generator.n//train_generator.batch_size,\n",
    "                              callbacks=callbacks,\n",
    "                             epochs=epochs,\n",
    "                              validation_data = validation_generator,\n",
    "                              validation_steps = validation_generator.n//validation_generator.batch_size\n",
    "                             )"
   ]
  },
  {
   "cell_type": "markdown",
   "metadata": {},
   "source": [
    "## Accuracy rate per epoch"
   ]
  },
  {
   "cell_type": "code",
   "execution_count": 97,
   "metadata": {},
   "outputs": [
    {
     "data": {
      "text/plain": [
       "<matplotlib.legend.Legend at 0x15d2075d340>"
      ]
     },
     "execution_count": 97,
     "metadata": {},
     "output_type": "execute_result"
    },
    {
     "data": {
      "image/png": "[encoded data removed]",
      "text/plain": [
       "<Figure size 432x288 with 1 Axes>"
      ]
     },
     "metadata": {
      "needs_background": "light"
     },
     "output_type": "display_data"
    }
   ],
   "source": [
    "import matplotlib.pyplot as plt\n",
    "%matplotlib inline\n",
    "\n",
    "plt.plot(history.history['accuracy'], label = 'Train Accuracy')\n",
    "plt.plot(history.history['val_accuracy'], label = 'Val Accuracy')\n",
    "plt.legend()"
   ]
  },
  {
   "cell_type": "markdown",
   "metadata": {},
   "source": [
    "## Heatmap"
   ]
  },
  {
   "cell_type": "code",
   "execution_count": 93,
   "metadata": {},
   "outputs": [
    {
     "data": {
      "image/png": "[encoded data removed]",
      "text/plain": [
       "<Figure size 864x432 with 2 Axes>"
      ]
     },
     "metadata": {
      "needs_background": "light"
     },
     "output_type": "display_data"
    }
   ],
   "source": [
    "import matplotlib.pyplot as plt\n",
    "from keras.preprocessing import image\n",
    "%matplotlib inline\n",
    "from sklearn.metrics import classification_report, confusion_matrix\n",
    "\n",
    "Y_pred = banana_model.predict_generator(validation_generator)\n",
    "y_pred = np.argmax(Y_pred, axis=1)\n",
    "\n",
    "conf_mat = confusion_matrix(validation_generator.classes, y_pred)\n",
    "\n",
    "class_labels = list(validation_generator.class_indices.keys())\n",
    "\n",
    "plt.figure(figsize=(12,6))\n",
    "plt.imshow(conf_mat)\n",
    "\n",
    "for y in range(conf_mat.shape[0]):\n",
    "    for x in range(conf_mat.shape[1]):\n",
    "        plt.text(x , y , '%.0f' % conf_mat[y, x],\n",
    "                 horizontalalignment='center',\n",
    "                 verticalalignment='center',\n",
    "                 )\n",
    "        \n",
    "plt.colorbar()\n",
    "tick_marks = np.arange(len(class_labels))\n",
    "_=plt.xticks(tick_marks,class_labels,rotation=90)\n",
    "_=plt.yticks(tick_marks,class_labels)"
   ]
  },
  {
   "cell_type": "markdown",
   "metadata": {},
   "source": [
    "As we can see, currently the model is having difficulty identifying some images, because there is a bit of overlap in characteristics."
   ]
  },
  {
   "cell_type": "code",
   "execution_count": null,
   "metadata": {},
   "outputs": [],
   "source": []
  },
  {
   "cell_type": "code",
   "execution_count": 81,
   "metadata": {},
   "outputs": [],
   "source": [
    "from keras.models import load_model\n",
    "import matplotlib.pyplot as plt\n",
    "from keras.preprocessing import image\n",
    "import os\n",
    "from os import listdir\n",
    "import random\n",
    "import cv2\n",
    "\n",
    "banana_model = load_model('./banana_weights_v1.h5')\n",
    "img_size = 128\n",
    "test_path = val_dir\n",
    "\n",
    "def getRandomImage(path, img_width, img_height):\n",
    "    folder = listdir(path)\n",
    "    random_folder_idx = random.randint(0,len(folder)-1)\n",
    "    folder_name = folder[random_folder_idx]\n",
    "    folder_path = path + '\\\\' + folder_name\n",
    "\n",
    "    images = listdir(folder_path)\n",
    "    random_img_idx = random.randint(0,len(images)-1)\n",
    "    image_select = images[random_img_idx]\n",
    "    full_path = folder_path + '\\\\' + image_select\n",
    "\n",
    "    return image.load_img(full_path, target_size = (img_width,img_height)), full_path, folder_name\n",
    "\n",
    "def draw_test(img_path, pred, true_label):\n",
    "\n",
    "    image = cv2.imread(img_path)\n",
    "    font_scale = .5\n",
    "\n",
    "    expanded_image = cv2.copyMakeBorder(image, 100, 0,0,0, cv2.BORDER_CONSTANT, value=[0,0,0])\n",
    "    cv2.putText(expanded_image, \"Prediction : \" + pred,org=(10, 30),fontFace=cv2.FONT_HERSHEY_COMPLEX, color=(0,0,255), fontScale = font_scale)\n",
    "    cv2.putText(expanded_image, \"True Labels : \" + true_label,org=(10, 50),fontFace=cv2.FONT_HERSHEY_COMPLEX, color=(0,255,0), fontScale = font_scale)\n",
    "    cv2.imshow(\"Image\",expanded_image)\n",
    "\n",
    "\n"
   ]
  },
  {
   "cell_type": "code",
   "execution_count": 2,
   "metadata": {},
   "outputs": [],
   "source": [
    "banana_dict = {\n",
    "    '0' : 'Green',\n",
    "    '1' : 'Yellowish_Green',\n",
    "    '2' : 'Midripen',\n",
    "    '3' : 'Overripen',\n",
    "}"
   ]
  },
  {
   "cell_type": "code",
   "execution_count": 102,
   "metadata": {},
   "outputs": [],
   "source": [
    "import numpy as np\n",
    "\n",
    "for i in range(0,10):\n",
    "    \n",
    "    pic, full_path, class_label = getRandomImage(test_path, img_size, img_size)\n",
    "    img = np.asarray(pic)\n",
    "    img = img.reshape((1,) + img.shape)\n",
    "\n",
    "    class_predict = banana_model.predict_classes(img)\n",
    "    class_predict_label = banana_dict.get(str(class_predict[0]))\n",
    "#     print(banana_model.predict(img))\n",
    "    draw_test(full_path, class_label, class_predict_label)\n",
    "\n",
    "    cv2.waitKey(0)\n",
    "\n",
    "cv2.destroyAllWindows()\n",
    "\n"
   ]
  },
  {
   "cell_type": "code",
   "execution_count": 100,
   "metadata": {},
   "outputs": [
    {
     "name": "stdout",
     "output_type": "stream",
     "text": [
      "[[3.9833028e-02 9.2667669e-01 3.2929886e-02 5.6043168e-04]]\n",
      "Yellowish_Green\n"
     ]
    }
   ],
   "source": [
    "img = image.load_img(r'D:\\PROJECTS_ML\\Banana_recognition\\images\\test\\banana_bunch_2.jpg', target_size = (128,128))\n",
    "img = np.asarray(pic)\n",
    "img = img.reshape((1,) + img.shape)\n",
    "\n",
    "class_predict = banana_model.predict_classes(img)\n",
    "class_predict_label = banana_dict.get(str(class_predict[0]))\n",
    "print(banana_model.predict(img))\n",
    "print(class_predict_label)\n",
    "# draw_test(full_path, class_label, class_predict_label)"
   ]
  },
  {
   "cell_type": "code",
   "execution_count": 4,
   "metadata": {},
   "outputs": [
    {
     "data": {
      "text/plain": [
       "['Green', 'Yellowish_Green', 'Midripen', 'Overripen']"
      ]
     },
     "execution_count": 4,
     "metadata": {},
     "output_type": "execute_result"
    }
   ],
   "source": [
    "list(banana_dict.values())"
   ]
  },
  {
   "cell_type": "markdown",
   "metadata": {},
   "source": [
    "# Importing Banana Classifier"
   ]
  },
  {
   "cell_type": "markdown",
   "metadata": {},
   "source": [
    "This step needs to be done so that we can utilize camera to detect our banana"
   ]
  },
  {
   "cell_type": "code",
   "execution_count": 4,
   "metadata": {},
   "outputs": [
    {
     "name": "stderr",
     "output_type": "stream",
     "text": [
      "<>:21: SyntaxWarning: \"is\" with a literal. Did you mean \"==\"?\n",
      "<>:21: SyntaxWarning: \"is\" with a literal. Did you mean \"==\"?\n",
      "<ipython-input-4-d9f97f3acfd3>:21: SyntaxWarning: \"is\" with a literal. Did you mean \"==\"?\n",
      "  if faces is ():\n"
     ]
    }
   ],
   "source": [
    "import cv2\n",
    "from keras.models import load_model\n",
    "import numpy as np\n",
    "from time import sleep\n",
    "from keras.preprocessing.image import img_to_array\n",
    "\n",
    "model = load_model('./banana_weights_v1.h5')\n",
    "\n",
    "face_classifier = cv2.CascadeClassifier(r'D:\\PROJECTS_ML\\Banana_recognition\\BananaCascade.xml')\n",
    "\n",
    "\n",
    "class_labels = ['Green', 'Yellowish_Green', 'Midripen', 'Overripen']\n",
    "\n",
    "\n",
    "\n",
    "def face_detector(img):\n",
    "    # Convert image to grayscale\n",
    "#     gray = cv2.cvtColor(img,cv2.COLOR_BGR2GRAY)\n",
    "    faces = face_classifier.detectMultiScale(img, 1.3, 5)\n",
    "    \n",
    "    if faces is ():\n",
    "        return (0,0,0,0), np.zeros((50,50), np.uint8), img\n",
    "    \n",
    "    for (x,y,w,h) in faces:\n",
    "        cv2.rectangle(img,(x,y),(x+w,y+h),(255,0,0),2)\n",
    "        roi_gray = img[y:y+h, x:x+w]\n",
    "\n",
    "    try:\n",
    "        roi_gray = cv2.resize(roi_gray, (128, 128), interpolation = cv2.INTER_AREA)\n",
    "    except:\n",
    "        return (x,w,y,h), np.zeros((48,48), np.uint8), img\n",
    "    return (x,w,y,h), roi_gray, img\n",
    "\n",
    "cap = cv2.VideoCapture(0)\n",
    "\n",
    "while True:\n",
    "\n",
    "    ret, frame = cap.read()\n",
    "    rect, face, image = face_detector(frame)\n",
    "    if np.sum([face]) != 0.0:\n",
    "        roi = face\n",
    "        roi = img_to_array(roi)\n",
    "        roi = np.expand_dims(roi, axis=0)\n",
    "\n",
    "        # make a prediction on the ROI, then lookup the class\n",
    "        preds = model.predict(roi)[0]\n",
    "        label = class_labels[preds.argmax()]  \n",
    "        label_position = (rect[0] + int((rect[1]/2)), rect[2] + 25)\n",
    "        cv2.putText(image, label, label_position , cv2.FONT_HERSHEY_SIMPLEX,2, (0,255,0), 3)\n",
    "    else:\n",
    "        cv2.putText(image, \"No Face Found\", (20, 60) , cv2.FONT_HERSHEY_SIMPLEX,2, (0,255,0), 3)\n",
    "        \n",
    "    cv2.imshow('All', image)\n",
    "    if cv2.waitKey(1) == 13: #13 is the Enter Key\n",
    "        break\n",
    "        \n",
    "cap.release()\n",
    "cv2.destroyAllWindows()      "
   ]
  },
  {
   "cell_type": "code",
   "execution_count": null,
   "metadata": {},
   "outputs": [],
   "source": []
  }
 ],
 "metadata": {
  "kernelspec": {
   "display_name": "algoritma",
   "language": "python",
   "name": "algoritma"
  },
  "language_info": {
   "codemirror_mode": {
    "name": "ipython",
    "version": 3
   },
   "file_extension": ".py",
   "mimetype": "text/x-python",
   "name": "python",
   "nbconvert_exporter": "python",
   "pygments_lexer": "ipython3",
   "version": "3.8.2"
  }
 },
 "nbformat": 4,
 "nbformat_minor": 4
}
